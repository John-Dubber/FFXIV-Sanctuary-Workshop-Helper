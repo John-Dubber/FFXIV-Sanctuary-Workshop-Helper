{
 "cells": [
  {
   "cell_type": "code",
   "execution_count": 38,
   "id": "7e9e76ac",
   "metadata": {},
   "outputs": [],
   "source": [
    "# Numerical arrays.\n",
    "import numpy as np\n",
    "\n",
    "# Data frames.\n",
    "import pandas as pd"
   ]
  },
  {
   "cell_type": "code",
   "execution_count": 39,
   "id": "dddfad15",
   "metadata": {},
   "outputs": [],
   "source": [
    "class Craftable:\n",
    "    def __init__(self, name, time, value, categories, recipe):\n",
    "        self.name = name\n",
    "        self.time = time\n",
    "        self.value = value\n",
    "        self.categories = categories\n",
    "        self.recipe = recipe\n",
    "    \n",
    "    def toString(self):\n",
    "        print(\"Name:          \" +self.name +\n",
    "              \"\\nTime Required: \" +str(self.time) + \n",
    "              \"\\nValue:         \" +str(self.value)+\n",
    "              \"\\nCategories:    \" +str(self.categories)+\n",
    "              \"\\nRecipe:        \" +str(self.recipe))"
   ]
  },
  {
   "cell_type": "code",
   "execution_count": 37,
   "id": "577fa28d",
   "metadata": {},
   "outputs": [],
   "source": [
    "# Load in the red wine data from the url\n",
    "df = pd.read_csv(\"https://raw.githubusercontent.com/John-Dubber/EmergingTechnologiesAssessment/\")"
   ]
  },
  {
   "cell_type": "code",
   "execution_count": null,
   "id": "645856eb",
   "metadata": {},
   "outputs": [],
   "source": []
  }
 ],
 "metadata": {
  "kernelspec": {
   "display_name": "Python 3 (ipykernel)",
   "language": "python",
   "name": "python3"
  },
  "language_info": {
   "codemirror_mode": {
    "name": "ipython",
    "version": 3
   },
   "file_extension": ".py",
   "mimetype": "text/x-python",
   "name": "python",
   "nbconvert_exporter": "python",
   "pygments_lexer": "ipython3",
   "version": "3.9.12"
  }
 },
 "nbformat": 4,
 "nbformat_minor": 5
}
